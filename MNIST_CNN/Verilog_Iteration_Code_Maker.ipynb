{
 "cells": [
  {
   "cell_type": "code",
   "execution_count": 3,
   "metadata": {},
   "outputs": [
    {
     "name": "stdout",
     "output_type": "stream",
     "text": [
      "out_data3_0*weight_3[0] + \n",
      "out_data3_1*weight_3[1] + \n",
      "out_data3_2*weight_3[2] + \n",
      "out_data3_3*weight_3[3] + \n",
      "out_data3_4*weight_3[4] + \n",
      "out_data3_5*weight_3[5] + \n",
      "out_data3_6*weight_3[6] + \n",
      "out_data3_7*weight_3[7] + \n",
      "out_data3_8*weight_3[8] + \n",
      "out_data3_9*weight_3[9] + \n",
      "out_data3_10*weight_3[10] + \n",
      "out_data3_11*weight_3[11] + \n",
      "out_data3_12*weight_3[12] + \n",
      "out_data3_13*weight_3[13] + \n",
      "out_data3_14*weight_3[14] + \n",
      "out_data3_15*weight_3[15] + \n",
      "out_data3_16*weight_3[16] + \n",
      "out_data3_17*weight_3[17] + \n",
      "out_data3_18*weight_3[18] + \n",
      "out_data3_19*weight_3[19] + \n",
      "out_data3_20*weight_3[20] + \n",
      "out_data3_21*weight_3[21] + \n",
      "out_data3_22*weight_3[22] + \n",
      "out_data3_23*weight_3[23] + \n",
      "out_data3_24*weight_3[24] + \n"
     ]
    }
   ],
   "source": [
    "for i in range(25):\n",
    "    print(\"out_data3_\"+str(i)+\"*weight_3[\"+str(i)+\"] + \")"
   ]
  },
  {
   "cell_type": "code",
   "execution_count": null,
   "metadata": {},
   "outputs": [],
   "source": []
  }
 ],
 "metadata": {
  "kernelspec": {
   "display_name": "Python 3",
   "language": "python",
   "name": "python3"
  },
  "language_info": {
   "codemirror_mode": {
    "name": "ipython",
    "version": 3
   },
   "file_extension": ".py",
   "mimetype": "text/x-python",
   "name": "python",
   "nbconvert_exporter": "python",
   "pygments_lexer": "ipython3",
   "version": "3.6.5"
  }
 },
 "nbformat": 4,
 "nbformat_minor": 2
}
